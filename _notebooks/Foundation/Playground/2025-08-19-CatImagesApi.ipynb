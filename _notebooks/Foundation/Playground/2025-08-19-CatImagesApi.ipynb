{
 "cells": [
  {
   "cell_type": "raw",
   "id": "1d69b13d",
   "metadata": {
    "vscode": {
     "languageId": "raw"
    }
   },
   "source": [
    "---\n",
    "layout: post\n",
    "title: Playground\n",
    "description: This page will help me learn new topics\n",
    "permalink: /playground\n",
    "breadcrumb: True\n",
    "---"
   ]
  },
  {
   "cell_type": "code",
   "execution_count": null,
   "id": "102826ac",
   "metadata": {
    "vscode": {
     "languageId": "html"
    }
   },
   "outputs": [
    {
     "data": {
      "text/html": [
       "\n",
       "<script>\n",
       "    fetch(\"https://cataas.com/cat\")\n",
       "        .then(response => response.blob())\n",
       "        .then(blob => {\n",
       "            const imgUrl = URL.createObjectURL(blob);\n",
       "            const img = document.createElement('img');\n",
       "            img.src = imgUrl;\n",
       "            img.alt = \"Random Cat\";\n",
       "            img.style.maxWidth = \"300px\";\n",
       "            document.body.appendChild(img);\n",
       "        })\n",
       "        .catch(error => console.error(\"Error fetching cat image:\", error));\n",
       "</script>\n",
       "\n",
       "\n"
      ],
      "text/plain": [
       "<IPython.core.display.HTML object>"
      ]
     },
     "metadata": {},
     "output_type": "display_data"
    }
   ],
   "source": [
    "%%html\n",
    "\n",
    "<script>\n",
    "    fetch(\"https://cataas.com/cat\")\n",
    "        .then(response => response.blob())\n",
    "        .then(blob => {\n",
    "            const imgUrl = URL.createObjectURL(blob);\n",
    "            const img = document.createElement('img');\n",
    "            img.src = imgUrl;\n",
    "            img.alt = \"Random Cat\";\n",
    "            img.style.maxWidth = \"300px\";\n",
    "            document.body.appendChild(img);\n",
    "        })\n",
    "        .catch(error => console.error(\"Error fetching cat image:\", error));\n",
    "</script>"
   ]
  },
  {
   "cell_type": "markdown",
   "id": "05026c6e",
   "metadata": {},
   "source": [
    "# Dictionary"
   ]
  },
  {
   "cell_type": "markdown",
   "id": "50b98535",
   "metadata": {},
   "source": [
    "### Notes\n",
    "\n",
    "API gives us a response which contains lots of data. In This code we are using the JSON data from the API\n",
    "\n",
    "\n",
    "JSON example for \"hello\"\n",
    "\n",
    "```json\n",
    "{word: 'hello', phonetics: Array(3), meanings: Array(3), license: {…}, sourceUrls: Array(1)}length\n",
    "\n",
    "Constains Defenition, meanings, source and much more!"
   ]
  },
  {
   "cell_type": "code",
   "execution_count": 2,
   "id": "0a73674d",
   "metadata": {
    "vscode": {
     "languageId": "html"
    }
   },
   "outputs": [
    {
     "data": {
      "text/html": [
       "\n",
       "<html>\n",
       "<head>\n",
       "    <title>Dict</title>\n",
       "</head>\n",
       "<body>\n",
       "<input type=\"text\" id=\"search\" placeholder=\"Search for a word\">\n",
       "<button onclick=\"FetchData()\">Search</button><br>\n",
       "<div id=\"result\"></div>\n",
       "\n",
       "    <script>\n",
       "\n",
       "        async function  FetchData() {\n",
       "             document.getElementById(\"result\").innerHTML = \"\";\n",
       "            try {\n",
       "                 const word = document.getElementById(\"search\").value.toLowerCase();\n",
       "                if (!word) {\n",
       "                    alert(\"Please enter a word to search.\");\n",
       "                    return;\n",
       "                }\n",
       "\n",
       "                if (word.includes(\" \")) {\n",
       "                    document.getElementById(\"result\").innerHTML = \"<p>Please enter a single word without spaces.</p>\";\n",
       "                    return;\n",
       "                }\n",
       "\n",
       "                const response = await fetch(`https://api.dictionaryapi.dev/api/v2/entries/en/${word}`);\n",
       "\n",
       "                if (response.status === 404) {\n",
       "                    document.getElementById(\"result\").innerHTML = \"<p>Word not found.</p>\";\n",
       "                    throw new Error(\"word not found\");\n",
       "                    return;\n",
       "                }\n",
       "\n",
       "                if (response.status === 429) {\n",
       "                    document.getElementById(\"result\").innerHTML = \"<p>Too many requests. Please try again later.</p>\";\n",
       "                    throw new Error(\"Too many requests. Please try again later.\");\n",
       "                    return;\n",
       "                }\n",
       "\n",
       "                if (response.status === 500) {\n",
       "                    document.getElementById(\"result\").innerHTML = \"<p>Server error. Please try again later.</p>\";\n",
       "                    throw new Error(\"Server error. Please try again later.\");\n",
       "                    return;\n",
       "                }\n",
       "\n",
       "                    if (!response.ok) {\n",
       "                    console.log(response)\n",
       "                    throw new Error(\"Network response was not ok\");\n",
       "                }\n",
       "\n",
       "\n",
       "                const data = await response.json();\n",
       "                const meaning = data[0].meanings[0];\n",
       "\n",
       "                const input = document.getElementById(\"search\");\n",
       "                const resultDiv = document.getElementById(\"result\");\n",
       "\n",
       "                console.log(data)\n",
       "                console.log(\"Definition:\", meaning.definitions[0].definition);\n",
       "\n",
       "                resultDiv.innerHTML = `\n",
       "                    <h2>Word: ${data[0].word}</h2>\n",
       "                    <p><strong>Definition:</strong> ${meaning.definitions[0].definition}</p>\n",
       "                    <p><strong>Part of Speech:</strong> ${meaning.partOfSpeech}</p>\n",
       "                `;\n",
       "            }\n",
       "            catch (error) {\n",
       "                console.error(\"Fetch error:\", error);\n",
       "            }\n",
       "        }\n",
       "    </script>\n",
       "</body>\n",
       "</html>\n"
      ],
      "text/plain": [
       "<IPython.core.display.HTML object>"
      ]
     },
     "metadata": {},
     "output_type": "display_data"
    }
   ],
   "source": [
    "%%html\n",
    "\n",
    "<html>\n",
    "<head>\n",
    "    <title>Dict</title>\n",
    "</head>\n",
    "<body>\n",
    "<input type=\"text\" id=\"search\" placeholder=\"Search for a word\">\n",
    "<button onclick=\"FetchData()\">Search</button><br>\n",
    "<div id=\"result\"></div>\n",
    "\n",
    "    <script>\n",
    "\n",
    "        async function  FetchData() {\n",
    "             document.getElementById(\"result\").innerHTML = \"\";\n",
    "            try {\n",
    "                 const word = document.getElementById(\"search\").value.toLowerCase();\n",
    "                if (!word) {\n",
    "                    alert(\"Please enter a word to search.\");\n",
    "                    return;\n",
    "                }\n",
    "\n",
    "                if (word.includes(\" \")) {\n",
    "                    document.getElementById(\"result\").innerHTML = \"<p>Please enter a single word without spaces.</p>\";\n",
    "                    return;\n",
    "                }\n",
    "\n",
    "                const response = await fetch(`https://api.dictionaryapi.dev/api/v2/entries/en/${word}`);\n",
    "\n",
    "                if (response.status === 404) {\n",
    "                    document.getElementById(\"result\").innerHTML = \"<p>Word not found.</p>\";\n",
    "                    throw new Error(\"word not found\");\n",
    "                    return;\n",
    "                }\n",
    "\n",
    "                if (response.status === 429) {\n",
    "                    document.getElementById(\"result\").innerHTML = \"<p>Too many requests. Please try again later.</p>\";\n",
    "                    throw new Error(\"Too many requests. Please try again later.\");\n",
    "                    return;\n",
    "                }\n",
    "\n",
    "                if (response.status === 500) {\n",
    "                    document.getElementById(\"result\").innerHTML = \"<p>Server error. Please try again later.</p>\";\n",
    "                    throw new Error(\"Server error. Please try again later.\");\n",
    "                    return;\n",
    "                }\n",
    "\n",
    "                    if (!response.ok) {\n",
    "                    console.log(response)\n",
    "                    throw new Error(\"Network response was not ok\");\n",
    "                }\n",
    "\n",
    "\n",
    "                const data = await response.json();\n",
    "                const meaning = data[0].meanings[0];\n",
    "\n",
    "                const input = document.getElementById(\"search\");\n",
    "                const resultDiv = document.getElementById(\"result\");\n",
    "\n",
    "                console.log(data)\n",
    "                console.log(\"Definition:\", meaning.definitions[0].definition);\n",
    "\n",
    "                resultDiv.innerHTML = `\n",
    "                    <h2>Word: ${data[0].word}</h2>\n",
    "                    <p><strong>Definition:</strong> ${meaning.definitions[0].definition}</p>\n",
    "                    <p><strong>Part of Speech:</strong> ${meaning.partOfSpeech}</p>\n",
    "                `;\n",
    "            }\n",
    "            catch (error) {\n",
    "                console.error(\"Fetch error:\", error);\n",
    "            }\n",
    "        }\n",
    "    </script>\n",
    "</body>\n",
    "</html>"
   ]
  }
 ],
 "metadata": {
  "kernelspec": {
   "display_name": "venv",
   "language": "python",
   "name": "python3"
  },
  "language_info": {
   "codemirror_mode": {
    "name": "ipython",
    "version": 3
   },
   "file_extension": ".py",
   "mimetype": "text/x-python",
   "name": "python",
   "nbconvert_exporter": "python",
   "pygments_lexer": "ipython3",
   "version": "3.12.3"
  }
 },
 "nbformat": 4,
 "nbformat_minor": 5
}
